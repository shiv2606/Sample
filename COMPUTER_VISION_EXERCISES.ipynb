{
  "nbformat": 4,
  "nbformat_minor": 0,
  "metadata": {
    "colab": {
      "provenance": []
    },
    "kernelspec": {
      "name": "python3",
      "display_name": "Python 3"
    },
    "language_info": {
      "name": "python"
    }
  },
  "cells": [
    {
      "cell_type": "markdown",
      "metadata": {
        "id": "DVKEersF8EZv"
      },
      "source": [
        "Welcome to Mid term Exam on Computer Vision.\n",
        "In this Exam you will get a chance to understand and work on some of the commonly used functionalities of several inbuilt libraries\n",
        "\n",
        "Instructions\n",
        "Use Python 3.x to run this notebook\n",
        "Write your code only in between the lines 'YOUR CODE STARTS HERE' and 'YOUR CODE ENDS HERE'.\n",
        "Look up the documentation for each of the Python and Numpy function used.\n",
        "This Exam is just to make you understand several commonly used library functions.\n",
        "This is evaluated and award 20 marks"
      ]
    },
    {
      "cell_type": "code",
      "metadata": {
        "id": "XLChkbx38NMj"
      },
      "source": [
        "#import the required Libraries\n",
        "import numpy as np"
      ],
      "execution_count": null,
      "outputs": []
    },
    {
      "cell_type": "markdown",
      "metadata": {
        "id": "dJAQnWDfFq4_"
      },
      "source": [
        "**Numpy Basics:**"
      ]
    },
    {
      "cell_type": "code",
      "metadata": {
        "id": "tVA8AJ5FFtoB"
      },
      "source": [
        "# Create a numpy array with size 2*2 with all elements as 8.\n",
        "import numpy as np\n",
        "# YOUR CODE STARTS HERE\n",
        "arr = np.array([[1,2,3,4],[4,5,6,8]])\n",
        "# YOUR CODE ENDS HERE"
      ],
      "execution_count": null,
      "outputs": []
    },
    {
      "cell_type": "code",
      "metadata": {
        "id": "wEQJL4uxF1Vl"
      },
      "source": [
        "#Find the sum of all the elements, mean, maximum and minimum value of the numpy array defined above\n",
        "\n",
        "#YOUR CODE STARTS HERE\n",
        "arr_sum = np.sum(arr)\n",
        "arr_mean = np.mean(arr)\n",
        "arr_max = np.max(arr)\n",
        "arr_min = np.min(arr)\n",
        "#YOUR CODE ENDS HERE"
      ],
      "execution_count": null,
      "outputs": []
    },
    {
      "cell_type": "markdown",
      "metadata": {
        "id": "E3-acmqdF5c-"
      },
      "source": [
        "**Reshaping and Indexing of Numpy Array:**"
      ]
    },
    {
      "cell_type": "code",
      "metadata": {
        "id": "syrNBlZcF7n6"
      },
      "source": [
        "#create a 1D numpy array of shape 35 with values 1,2,3..,35\n",
        "\n",
        "#YOUR CODE STARTS HERE\n",
        "y = np.shape([1,2,3,4,5,6,7,8,9,10,11,12,13,14,15,16,17,18,19,20,21,22,23,24,25,26,27,28,29,30,31,32,33,34,35])\n",
        "#YOUR CODE ENDS HERE"
      ],
      "execution_count": null,
      "outputs": []
    },
    {
      "cell_type": "code",
      "metadata": {
        "id": "B-8gAX8TF-w6",
        "outputId": "e3d1647c-1841-46d7-fd40-18d777e68551",
        "colab": {
          "base_uri": "https://localhost:8080/"
        }
      },
      "source": [
        "# Reshape it as 2D array of shape (5,7)\n",
        "import numpy as np\n",
        "arr = np.array([1,2,3,4,5,6,7,8,9,10,11,12,13,14,15,16,17,18,19,20,21,22,23,24,25,26,27,28,29,30,31,32,33,34,35])\n",
        "print(arr)\n",
        "y = np.reshape(arr, (5,7))\n",
        "print(y)\n",
        "#YOUR CODE STARTS HERE\n",
        "#y = np.reshape(5,7)\n",
        "#YOUR CODE ENDS HERE\n",
        "#y.shape"
      ],
      "execution_count": null,
      "outputs": [
        {
          "output_type": "stream",
          "name": "stdout",
          "text": [
            "[ 1  2  3  4  5  6  7  8  9 10 11 12 13 14 15 16 17 18 19 20 21 22 23 24\n",
            " 25 26 27 28 29 30 31 32 33 34 35]\n",
            "[[ 1  2  3  4  5  6  7]\n",
            " [ 8  9 10 11 12 13 14]\n",
            " [15 16 17 18 19 20 21]\n",
            " [22 23 24 25 26 27 28]\n",
            " [29 30 31 32 33 34 35]]\n"
          ]
        }
      ]
    },
    {
      "cell_type": "code",
      "metadata": {
        "id": "4wB7Di0HGBGO",
        "colab": {
          "base_uri": "https://localhost:8080/",
          "height": 217
        },
        "outputId": "23a5dc7e-4bea-447f-b050-9fa6dc0a1923"
      },
      "source": [
        "# Extract all the elements from 2nd and 3rd row\n",
        "\n",
        "#YOUR CODE STARTS HERE\n",
        "y_row =print(arr[1:3, 1:3])\n",
        "#YOUR CODE ENDS HERE"
      ],
      "execution_count": null,
      "outputs": [
        {
          "output_type": "error",
          "ename": "IndexError",
          "evalue": "ignored",
          "traceback": [
            "\u001b[0;31m---------------------------------------------------------------------------\u001b[0m",
            "\u001b[0;31mIndexError\u001b[0m                                Traceback (most recent call last)",
            "\u001b[0;32m<ipython-input-5-780176047f56>\u001b[0m in \u001b[0;36m<module>\u001b[0;34m()\u001b[0m\n\u001b[1;32m      2\u001b[0m \u001b[0;34m\u001b[0m\u001b[0m\n\u001b[1;32m      3\u001b[0m \u001b[0;31m#YOUR CODE STARTS HERE\u001b[0m\u001b[0;34m\u001b[0m\u001b[0;34m\u001b[0m\u001b[0;34m\u001b[0m\u001b[0m\n\u001b[0;32m----> 4\u001b[0;31m \u001b[0my_row\u001b[0m \u001b[0;34m=\u001b[0m\u001b[0mprint\u001b[0m\u001b[0;34m(\u001b[0m\u001b[0marr\u001b[0m\u001b[0;34m[\u001b[0m\u001b[0;36m1\u001b[0m\u001b[0;34m:\u001b[0m\u001b[0;36m3\u001b[0m\u001b[0;34m,\u001b[0m \u001b[0;36m1\u001b[0m\u001b[0;34m:\u001b[0m\u001b[0;36m3\u001b[0m\u001b[0;34m]\u001b[0m\u001b[0;34m)\u001b[0m\u001b[0;34m\u001b[0m\u001b[0;34m\u001b[0m\u001b[0m\n\u001b[0m\u001b[1;32m      5\u001b[0m \u001b[0;31m#YOUR CODE ENDS HERE\u001b[0m\u001b[0;34m\u001b[0m\u001b[0;34m\u001b[0m\u001b[0;34m\u001b[0m\u001b[0m\n",
            "\u001b[0;31mIndexError\u001b[0m: too many indices for array: array is 1-dimensional, but 2 were indexed"
          ]
        }
      ]
    },
    {
      "cell_type": "code",
      "metadata": {
        "id": "N03EmSndGCub",
        "colab": {
          "base_uri": "https://localhost:8080/"
        },
        "outputId": "9ef2eda1-d7b1-46b9-b334-f20cc459d212"
      },
      "source": [
        "# Extract all the elements from 3rd and 5th and 7th column\n",
        "\n",
        "#YOUR CODE STARTS HERE\n",
        "y_column = arr[3,]\n",
        "print(arr)\n",
        "y_column = arr[5,]\n",
        "print(arr)\n",
        "y_column = arr[5,]\n",
        "print(arr)\n",
        "#YOUR CODE ENDS HERE"
      ],
      "execution_count": null,
      "outputs": [
        {
          "output_type": "stream",
          "name": "stdout",
          "text": [
            "[1 2 3 4 5 6 7]\n",
            "[1 2 3 4 5 6 7]\n",
            "[1 2 3 4 5 6 7]\n"
          ]
        }
      ]
    },
    {
      "cell_type": "code",
      "metadata": {
        "id": "U8d-nblLGNB6"
      },
      "source": [
        "#display the created Array as image\n",
        "#YOUR CODE STARTS HERE\n",
        "from PIL import Image\n",
        "\n",
        "w, h = 512, 512\n",
        "data = np.zeros((h, w, 3), dtype=np.uint8)\n",
        "data[0:256, 0:256] = [255, 0, 0] # red patch in upper left\n",
        "img = Image.fromarray(data, 'RGB')\n",
        "img.save('my.png')\n",
        "img.show()\n",
        "#YOUR CODE ENDS HERE"
      ],
      "execution_count": null,
      "outputs": []
    },
    {
      "cell_type": "markdown",
      "metadata": {
        "id": "nX_jQoWx86hV"
      },
      "source": [
        "**Reading an image**"
      ]
    },
    {
      "cell_type": "code",
      "metadata": {
        "id": "JsK5gxiF9Ezy"
      },
      "source": [
        "#Read your image both by passing URL and direct passing the image name\n",
        "import urllib\n",
        "import urllib.request\n",
        "from PIL import Image\n",
        "urllib.request.urlretrieve(\"https://i.imgur.com/ExdKOOz.png\", \"sample.png\")\n",
        "img = Image.open(\"sample.png\")\n",
        "img.show()"
      ],
      "execution_count": null,
      "outputs": []
    },
    {
      "cell_type": "markdown",
      "metadata": {
        "id": "gBewvWYH9PkZ"
      },
      "source": [
        "**Width, height and color channels**"
      ]
    },
    {
      "cell_type": "code",
      "metadata": {
        "id": "i3lS6NZS9U6Q",
        "outputId": "7a329680-84f9-400f-e931-66d0583b3b1b",
        "colab": {
          "base_uri": "https://localhost:8080/",
          "height": 252
        }
      },
      "source": [
        "#Get the shape of the image and display it as  \" Widht : Height: Color channels:\"\n",
        "import cv2\n",
        "\n",
        "im = cv2.imread('data/src/lena.jpg')\n",
        "\n",
        "print(type(im))\n",
        "# <class 'numpy.ndarray'>\n",
        "\n",
        "print(im.shape)\n",
        "print(type(im.shape))\n",
        "# (225, 400, 3)\n",
        "# <class 'tuple'>"
      ],
      "execution_count": null,
      "outputs": [
        {
          "output_type": "stream",
          "name": "stdout",
          "text": [
            "<class 'NoneType'>\n"
          ]
        },
        {
          "output_type": "error",
          "ename": "AttributeError",
          "evalue": "ignored",
          "traceback": [
            "\u001b[0;31m---------------------------------------------------------------------------\u001b[0m",
            "\u001b[0;31mAttributeError\u001b[0m                            Traceback (most recent call last)",
            "\u001b[0;32m<ipython-input-1-984d26bca196>\u001b[0m in \u001b[0;36m<module>\u001b[0;34m()\u001b[0m\n\u001b[1;32m      7\u001b[0m \u001b[0;31m# <class 'numpy.ndarray'>\u001b[0m\u001b[0;34m\u001b[0m\u001b[0;34m\u001b[0m\u001b[0;34m\u001b[0m\u001b[0m\n\u001b[1;32m      8\u001b[0m \u001b[0;34m\u001b[0m\u001b[0m\n\u001b[0;32m----> 9\u001b[0;31m \u001b[0mprint\u001b[0m\u001b[0;34m(\u001b[0m\u001b[0mim\u001b[0m\u001b[0;34m.\u001b[0m\u001b[0mshape\u001b[0m\u001b[0;34m)\u001b[0m\u001b[0;34m\u001b[0m\u001b[0;34m\u001b[0m\u001b[0m\n\u001b[0m\u001b[1;32m     10\u001b[0m \u001b[0mprint\u001b[0m\u001b[0;34m(\u001b[0m\u001b[0mtype\u001b[0m\u001b[0;34m(\u001b[0m\u001b[0mim\u001b[0m\u001b[0;34m.\u001b[0m\u001b[0mshape\u001b[0m\u001b[0;34m)\u001b[0m\u001b[0;34m)\u001b[0m\u001b[0;34m\u001b[0m\u001b[0;34m\u001b[0m\u001b[0m\n\u001b[1;32m     11\u001b[0m \u001b[0;31m# (225, 400, 3)\u001b[0m\u001b[0;34m\u001b[0m\u001b[0;34m\u001b[0m\u001b[0;34m\u001b[0m\u001b[0m\n",
            "\u001b[0;31mAttributeError\u001b[0m: 'NoneType' object has no attribute 'shape'"
          ]
        }
      ]
    },
    {
      "cell_type": "markdown",
      "metadata": {
        "id": "_UE1zm129gsY"
      },
      "source": [
        "**Show image**"
      ]
    },
    {
      "cell_type": "code",
      "metadata": {
        "id": "XknMOwPa9jSa"
      },
      "source": [
        "#display the image using matplot and opencv"
      ],
      "execution_count": null,
      "outputs": []
    },
    {
      "cell_type": "markdown",
      "metadata": {
        "id": "DCjDPAtG9ojn"
      },
      "source": [
        "**Turning into gray**"
      ]
    },
    {
      "cell_type": "code",
      "metadata": {
        "id": "kYOdadUI9tJI"
      },
      "source": [
        "#display the image in grayscale"
      ],
      "execution_count": null,
      "outputs": []
    },
    {
      "cell_type": "markdown",
      "metadata": {
        "id": "wWI3cwWv9wfA"
      },
      "source": [
        "**Resizing**"
      ]
    },
    {
      "cell_type": "code",
      "metadata": {
        "id": "b7Dcmovu9zcr"
      },
      "source": [
        "#Resize the image to 120,80 \n",
        "\n",
        "\n",
        "\n",
        "# display the  resultant image"
      ],
      "execution_count": null,
      "outputs": []
    },
    {
      "cell_type": "markdown",
      "metadata": {
        "id": "iTiX9j1--GUh"
      },
      "source": [
        "**Cropping**"
      ]
    },
    {
      "cell_type": "code",
      "metadata": {
        "id": "Vfc3HkM1-LTg"
      },
      "source": [
        "#crop the image to the dimensions:400:1200, 50:1550 \n",
        "\n",
        "\n",
        "# display the cropped image"
      ],
      "execution_count": null,
      "outputs": []
    },
    {
      "cell_type": "markdown",
      "metadata": {
        "id": "l9wsinP3-VG4"
      },
      "source": [
        "**Rotation**"
      ]
    },
    {
      "cell_type": "code",
      "metadata": {
        "id": "nN7RGSJ2-X2P"
      },
      "source": [
        "#Rotate the image to the angle of 55 and by using center of the image as Rotation point\n",
        "\n",
        "\n",
        "# display the rotated image "
      ],
      "execution_count": null,
      "outputs": []
    },
    {
      "cell_type": "markdown",
      "metadata": {
        "id": "Rv8TIEPF-0Ox"
      },
      "source": [
        "**Blurring an Image**"
      ]
    },
    {
      "cell_type": "code",
      "metadata": {
        "id": "gwzWpxMb-3MK"
      },
      "source": [
        "#blur the image  by using kernel size\n",
        "\n",
        "\n",
        "\n",
        "#Display the blurred image"
      ],
      "execution_count": null,
      "outputs": []
    },
    {
      "cell_type": "markdown",
      "metadata": {
        "id": "SNZjCp29_GQF"
      },
      "source": [
        "**Finding contours of an image**"
      ]
    },
    {
      "cell_type": "code",
      "metadata": {
        "id": "zDiGhlV-_LH-"
      },
      "source": [
        "#Find the contours of the cropped image\n",
        "\n",
        "\n",
        "#Display the resultant image"
      ],
      "execution_count": null,
      "outputs": []
    },
    {
      "cell_type": "markdown",
      "metadata": {
        "id": "UxDOWF79_UFB"
      },
      "source": [
        "**Placing one image on top of another**"
      ]
    },
    {
      "cell_type": "code",
      "metadata": {
        "id": "goN9w3ML_YoB"
      },
      "source": [
        "#Place one image on another image using mask\n",
        "\n",
        "\n",
        "#Display the resultant image"
      ],
      "execution_count": null,
      "outputs": []
    },
    {
      "cell_type": "markdown",
      "metadata": {
        "id": "vBwyBzNI_o7A"
      },
      "source": [
        "**Drawing circles**"
      ]
    },
    {
      "cell_type": "code",
      "metadata": {
        "id": "8u92WXsfFAWG"
      },
      "source": [
        "#Draw circles on the specified region of your image\n",
        "\n",
        "\n",
        "#Display the resultant image"
      ],
      "execution_count": null,
      "outputs": []
    },
    {
      "cell_type": "code",
      "metadata": {
        "id": "xnhRJFypFSFU"
      },
      "source": [],
      "execution_count": null,
      "outputs": []
    },
    {
      "cell_type": "markdown",
      "metadata": {
        "id": "bDEGfEpcFTSE"
      },
      "source": [
        "**Drawing Text**"
      ]
    },
    {
      "cell_type": "code",
      "metadata": {
        "id": "GPIeXMxyFXAj"
      },
      "source": [
        "#Include the Text in your image\n",
        "\n",
        "\n",
        "\n",
        "# Display the resultant image"
      ],
      "execution_count": null,
      "outputs": []
    }
  ]
}